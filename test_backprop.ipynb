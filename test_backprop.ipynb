{
 "cells": [
  {
   "cell_type": "code",
   "execution_count": 1,
   "source": [
    "import torch\r\n",
    "from endurance.variable import Variable\r\n",
    "from endurance.activations import relu\r\n",
    "\r\n",
    "\r\n",
    "\r\n",
    "#I use the test functions from https://github.com/karpathy/micrograd/blob/master/test/test_engine.py\r\n",
    "\r\n",
    "def test_sanity_check():\r\n",
    "\r\n",
    "    x = Variable(-4.0)\r\n",
    "    z = 2 * x + 2 + x\r\n",
    "    q = relu(z) + z * x\r\n",
    "    h = relu(z * z)\r\n",
    "    y = h + q + q * x\r\n",
    "    y.backward()\r\n",
    "    xmg, ymg = x, y\r\n",
    "\r\n",
    "    x = torch.Tensor([-4.0]).double()\r\n",
    "    x.requires_grad = True\r\n",
    "    z = 2 * x + 2 + x\r\n",
    "    q = z.relu() + z * x\r\n",
    "    h = (z * z).relu()\r\n",
    "    y = h + q + q * x\r\n",
    "    y.backward()\r\n",
    "    xpt, ypt = x, y\r\n",
    "\r\n",
    "    # forward pass went well\r\n",
    "    assert ymg.value == ypt.data.item()\r\n",
    "    # backward pass went well\r\n",
    "    assert xmg.gradient == xpt.grad.item()\r\n",
    "\r\n",
    "def test_more_ops():\r\n",
    "\r\n",
    "    a = Variable(-4.0)\r\n",
    "    b = Variable(2.0)\r\n",
    "    c = a + b\r\n",
    "    d = a * b + b**3\r\n",
    "    c += c + 1\r\n",
    "    c += 1 + c + (-a)\r\n",
    "    d += d * 2 + relu(b + a)\r\n",
    "    d += 3 * d + relu(b - a)\r\n",
    "    e = c - d\r\n",
    "    f = e**2\r\n",
    "    g = f / 2.0\r\n",
    "    g += 10.0 / f\r\n",
    "    g.backward()\r\n",
    "    amg, bmg, gmg = a, b, g\r\n",
    "\r\n",
    "    a = torch.Tensor([-4.0]).double()\r\n",
    "    b = torch.Tensor([2.0]).double()\r\n",
    "    a.requires_grad = True\r\n",
    "    b.requires_grad = True\r\n",
    "    c = a + b\r\n",
    "    d = a * b + b**3\r\n",
    "    c = c + c + 1\r\n",
    "    c = c + 1 + c + (-a)\r\n",
    "    d = d + d * 2 + (b + a).relu()\r\n",
    "    d = d + 3 * d + (b - a).relu()\r\n",
    "    e = c - d\r\n",
    "    f = e**2\r\n",
    "    g = f / 2.0\r\n",
    "    g = g + 10.0 / f\r\n",
    "    g.backward()\r\n",
    "    apt, bpt, gpt = a, b, g\r\n",
    "\r\n",
    "    tol = 1e-6\r\n",
    "    # forward pass went well\r\n",
    "    assert abs(gmg.value - gpt.data.item()) < tol\r\n",
    "    # backward pass went well\r\n",
    "    assert abs(amg.gradient - apt.grad.item()) < tol\r\n",
    "    assert abs(bmg.gradient - bpt.grad.item()) < tol"
   ],
   "outputs": [],
   "metadata": {}
  },
  {
   "cell_type": "code",
   "execution_count": 2,
   "source": [
    "#all good\r\n",
    "test_sanity_check()"
   ],
   "outputs": [],
   "metadata": {}
  },
  {
   "cell_type": "code",
   "execution_count": 3,
   "source": [
    "#all good\r\n",
    "test_more_ops()"
   ],
   "outputs": [],
   "metadata": {}
  }
 ],
 "metadata": {
  "orig_nbformat": 4,
  "language_info": {
   "name": "python",
   "version": "3.9.2",
   "mimetype": "text/x-python",
   "codemirror_mode": {
    "name": "ipython",
    "version": 3
   },
   "pygments_lexer": "ipython3",
   "nbconvert_exporter": "python",
   "file_extension": ".py"
  },
  "kernelspec": {
   "name": "python3",
   "display_name": "Python 3.9.2 64-bit"
  },
  "interpreter": {
   "hash": "fa3cbfbae4d6566a3d3a5b2d4aa82ef8305341f863d6251df7546c5c9c3534c2"
  }
 },
 "nbformat": 4,
 "nbformat_minor": 2
}